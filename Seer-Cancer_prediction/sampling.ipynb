{
 "cells": [
  {
   "cell_type": "markdown",
   "metadata": {},
   "source": [
    "**import libraries**"
   ]
  },
  {
   "cell_type": "code",
   "execution_count": 1,
   "metadata": {},
   "outputs": [],
   "source": [
    "import os\n",
    "import pandas as pd\n",
    "import numpy as np"
   ]
  },
  {
   "cell_type": "markdown",
   "metadata": {},
   "source": [
    "**set working directory**"
   ]
  },
  {
   "cell_type": "code",
   "execution_count": 2,
   "metadata": {},
   "outputs": [],
   "source": [
    "os.chdir('D:\\\\ISU\\MIS 536\\SEER Project\\CSV data')"
   ]
  },
  {
   "cell_type": "markdown",
   "metadata": {},
   "source": [
    "**load raw data**"
   ]
  },
  {
   "cell_type": "code",
   "execution_count": 3,
   "metadata": {},
   "outputs": [
    {
     "name": "stderr",
     "output_type": "stream",
     "text": [
      "C:\\Users\\ajink\\Anaconda3\\lib\\site-packages\\IPython\\core\\interactiveshell.py:3058: DtypeWarning: Columns (5) have mixed types. Specify dtype option on import or set low_memory=False.\n",
      "  interactivity=interactivity, compiler=compiler, result=result)\n"
     ]
    }
   ],
   "source": [
    "data = pd.read_csv(\"COLRECT-decoded.csv\")"
   ]
  },
  {
   "cell_type": "markdown",
   "metadata": {},
   "source": [
    "**check data shape**"
   ]
  },
  {
   "cell_type": "code",
   "execution_count": 4,
   "metadata": {},
   "outputs": [
    {
     "data": {
      "text/plain": [
       "(939119, 35)"
      ]
     },
     "execution_count": 4,
     "metadata": {},
     "output_type": "execute_result"
    }
   ],
   "source": [
    "data.shape"
   ]
  },
  {
   "cell_type": "markdown",
   "metadata": {},
   "source": [
    "**drop some columns**"
   ]
  },
  {
   "cell_type": "code",
   "execution_count": 5,
   "metadata": {},
   "outputs": [],
   "source": [
    "data = data.drop(['RACEIV','HISTRECB','ORIGRECB','ST_CNTY','LYMSUBRWHO','BRST_SUB','PUBCSNUM'],axis=1)"
   ]
  },
  {
   "cell_type": "code",
   "execution_count": 6,
   "metadata": {},
   "outputs": [
    {
     "data": {
      "text/plain": [
       "(939119, 28)"
      ]
     },
     "execution_count": 6,
     "metadata": {},
     "output_type": "execute_result"
    }
   ],
   "source": [
    "data.shape"
   ]
  },
  {
   "cell_type": "markdown",
   "metadata": {},
   "source": [
    "**variable: 'AGE_DX'**"
   ]
  },
  {
   "cell_type": "code",
   "execution_count": 7,
   "metadata": {},
   "outputs": [
    {
     "data": {
      "text/plain": [
       "(939084, 28)"
      ]
     },
     "execution_count": 7,
     "metadata": {},
     "output_type": "execute_result"
    }
   ],
   "source": [
    "data = data.drop(data[data['AGE_DX'] == 999].index)\n",
    "data.shape"
   ]
  },
  {
   "cell_type": "markdown",
   "metadata": {},
   "source": [
    "**variable: 'REG'**"
   ]
  },
  {
   "cell_type": "code",
   "execution_count": 8,
   "metadata": {},
   "outputs": [
    {
     "data": {
      "text/plain": [
       "(936538, 28)"
      ]
     },
     "execution_count": 8,
     "metadata": {},
     "output_type": "execute_result"
    }
   ],
   "source": [
    "data = data.drop(data[data['REG'] == 'Rural Georgia'].index)\n",
    "data = data.drop(data[data['REG'] == 'Alaska'].index)\n",
    "\"\"\"\n",
    "data = data.drop(data[data['REG'] == 'Metropolitan Atlanta'].index)\n",
    "data = data.drop(data[data['REG'] == 'San Jose-Monterey'].index)\n",
    "data = data.drop(data[data['REG'] == 'New Mexico'].index)\n",
    "data = data.drop(data[data['REG'] == 'Hawaii'].index)\n",
    "data = data.drop(data[data['REG'] == 'Utah'].index)\n",
    "data = data.drop(data[data['REG'] == 'Idaho'].index)\n",
    "\"\"\"\n",
    "data.shape"
   ]
  },
  {
   "cell_type": "markdown",
   "metadata": {},
   "source": [
    "**variable: 'SEQ_NUM'**"
   ]
  },
  {
   "cell_type": "code",
   "execution_count": 9,
   "metadata": {},
   "outputs": [],
   "source": [
    "data = data.drop(data[data['SEQ_NUM'] > 4].index)"
   ]
  },
  {
   "cell_type": "code",
   "execution_count": 10,
   "metadata": {},
   "outputs": [
    {
     "data": {
      "text/plain": [
       "(935383, 28)"
      ]
     },
     "execution_count": 10,
     "metadata": {},
     "output_type": "execute_result"
    }
   ],
   "source": [
    "data.shape"
   ]
  },
  {
   "cell_type": "markdown",
   "metadata": {},
   "source": [
    "**variable: 'PRIMSITE'**"
   ]
  },
  {
   "cell_type": "code",
   "execution_count": 11,
   "metadata": {},
   "outputs": [
    {
     "data": {
      "text/plain": [
       "(892116, 28)"
      ]
     },
     "execution_count": 11,
     "metadata": {},
     "output_type": "execute_result"
    }
   ],
   "source": [
    "data = data.drop(data[data['PRIMSITE'] == 'C188'].index)\n",
    "data = data.drop(data[data['PRIMSITE'] == 'C260'].index)\n",
    "data = data.drop(data[data['PRIMSITE'] == 'C189'].index)\n",
    "\n",
    "data.shape"
   ]
  },
  {
   "cell_type": "markdown",
   "metadata": {},
   "source": [
    "**variable: 'LATERAL';**"
   ]
  },
  {
   "cell_type": "code",
   "execution_count": 12,
   "metadata": {},
   "outputs": [
    {
     "data": {
      "text/plain": [
       "Not a paired site           888166\n",
       "Right: origin of primary      2550\n",
       "Left: origin of primary        744\n",
       "Paired site                    604\n",
       "Only one side involved          43\n",
       "Bilateral involvement            9\n",
       "Name: LATERAL, dtype: int64"
      ]
     },
     "execution_count": 12,
     "metadata": {},
     "output_type": "execute_result"
    }
   ],
   "source": [
    "data['LATERAL'].value_counts()"
   ]
  },
  {
   "cell_type": "code",
   "execution_count": 13,
   "metadata": {},
   "outputs": [],
   "source": [
    "data = data.drop(['LATERAL'], axis=1)"
   ]
  },
  {
   "cell_type": "code",
   "execution_count": 14,
   "metadata": {},
   "outputs": [
    {
     "data": {
      "text/plain": [
       "(892116, 27)"
      ]
     },
     "execution_count": 14,
     "metadata": {},
     "output_type": "execute_result"
    }
   ],
   "source": [
    "data.shape"
   ]
  },
  {
   "cell_type": "markdown",
   "metadata": {},
   "source": [
    "**mapping counts**"
   ]
  },
  {
   "cell_type": "code",
   "execution_count": 15,
   "metadata": {},
   "outputs": [],
   "source": [
    "counts = data.apply(lambda x: x.map(x.value_counts()))"
   ]
  },
  {
   "cell_type": "markdown",
   "metadata": {},
   "source": [
    "**variable: 'HISTO3V'**"
   ]
  },
  {
   "cell_type": "code",
   "execution_count": 16,
   "metadata": {},
   "outputs": [],
   "source": [
    "data['HISTO3V'] = ['Other' if i <= 10000 else i for i in counts['HISTO3V']]"
   ]
  },
  {
   "cell_type": "code",
   "execution_count": 17,
   "metadata": {},
   "outputs": [],
   "source": [
    "data = data.drop(data[data['HISTO3V'] == 'Other'].index)"
   ]
  },
  {
   "cell_type": "code",
   "execution_count": 18,
   "metadata": {},
   "outputs": [
    {
     "data": {
      "text/plain": [
       "(849640, 27)"
      ]
     },
     "execution_count": 18,
     "metadata": {},
     "output_type": "execute_result"
    }
   ],
   "source": [
    "data.shape"
   ]
  },
  {
   "cell_type": "markdown",
   "metadata": {},
   "source": [
    "**variable: 'BEHO3V'**"
   ]
  },
  {
   "cell_type": "code",
   "execution_count": 19,
   "metadata": {},
   "outputs": [
    {
     "data": {
      "text/plain": [
       "Malignant - Invasive    801228\n",
       "Carcinoma in situ        48412\n",
       "Name: BEHO3V, dtype: int64"
      ]
     },
     "execution_count": 19,
     "metadata": {},
     "output_type": "execute_result"
    }
   ],
   "source": [
    "data['BEHO3V'].value_counts()"
   ]
  },
  {
   "cell_type": "markdown",
   "metadata": {},
   "source": [
    "**variable: 'DX_CONF'**"
   ]
  },
  {
   "cell_type": "code",
   "execution_count": 20,
   "metadata": {},
   "outputs": [
    {
     "data": {
      "text/plain": [
       "1    840712\n",
       "7      4170\n",
       "2      1429\n",
       "6      1017\n",
       "9       870\n",
       "8       838\n",
       "4       488\n",
       "5       114\n",
       "3         2\n",
       "Name: DX_CONF, dtype: int64"
      ]
     },
     "execution_count": 20,
     "metadata": {},
     "output_type": "execute_result"
    }
   ],
   "source": [
    "data['DX_CONF'].value_counts()"
   ]
  },
  {
   "cell_type": "code",
   "execution_count": 21,
   "metadata": {},
   "outputs": [
    {
     "data": {
      "text/plain": [
       "(849036, 27)"
      ]
     },
     "execution_count": 21,
     "metadata": {},
     "output_type": "execute_result"
    }
   ],
   "source": [
    "data = data.drop(data[data['DX_CONF'] == 3].index)\n",
    "data = data.drop(data[data['DX_CONF'] == 4].index)\n",
    "data = data.drop(data[data['DX_CONF'] == 5].index)\n",
    "data.shape"
   ]
  },
  {
   "cell_type": "code",
   "execution_count": 22,
   "metadata": {},
   "outputs": [
    {
     "data": {
      "text/plain": [
       "Grade II        490137\n",
       "Undetermined    148645\n",
       "Grade III       117677\n",
       "Grade I          81094\n",
       "Grade IV         11483\n",
       "Name: GRADE, dtype: int64"
      ]
     },
     "execution_count": 22,
     "metadata": {},
     "output_type": "execute_result"
    }
   ],
   "source": [
    "data['GRADE'].value_counts()"
   ]
  },
  {
   "cell_type": "markdown",
   "metadata": {},
   "source": [
    "**variable: 'RECNOREC'**"
   ]
  },
  {
   "cell_type": "code",
   "execution_count": 23,
   "metadata": {},
   "outputs": [
    {
     "data": {
      "text/plain": [
       "1    704063\n",
       "2    122499\n",
       "3     19529\n",
       "4      2923\n",
       "5        22\n",
       "Name: RECNOREC, dtype: int64"
      ]
     },
     "execution_count": 23,
     "metadata": {},
     "output_type": "execute_result"
    }
   ],
   "source": [
    "data['RECNOREC'].value_counts()"
   ]
  },
  {
   "cell_type": "code",
   "execution_count": 24,
   "metadata": {},
   "outputs": [
    {
     "data": {
      "text/plain": [
       "(846091, 27)"
      ]
     },
     "execution_count": 24,
     "metadata": {},
     "output_type": "execute_result"
    }
   ],
   "source": [
    "data = data.drop(data[data['RECNOREC'] == 4].index)\n",
    "data = data.drop(data[data['RECNOREC'] == 5].index)\n",
    "data.shape"
   ]
  },
  {
   "cell_type": "markdown",
   "metadata": {},
   "source": [
    "**variable: 'AGE_IREC'**"
   ]
  },
  {
   "cell_type": "code",
   "execution_count": 25,
   "metadata": {},
   "outputs": [
    {
     "data": {
      "text/plain": [
       "16    110870\n",
       "15    107841\n",
       "14    104712\n",
       "17     97370\n",
       "18     94060\n",
       "13     92758\n",
       "12     81688\n",
       "11     74052\n",
       "10     39555\n",
       "9      21811\n",
       "8      11079\n",
       "7       5654\n",
       "6       2691\n",
       "5       1218\n",
       "4        534\n",
       "3        173\n",
       "2         23\n",
       "1          1\n",
       "0          1\n",
       "Name: AGE_IREC, dtype: int64"
      ]
     },
     "execution_count": 25,
     "metadata": {},
     "output_type": "execute_result"
    }
   ],
   "source": [
    "data['AGE_IREC'].value_counts()"
   ]
  },
  {
   "cell_type": "code",
   "execution_count": 26,
   "metadata": {},
   "outputs": [],
   "source": [
    "data = data.drop(data[data['AGE_IREC'] < 8].index)"
   ]
  },
  {
   "cell_type": "markdown",
   "metadata": {},
   "source": [
    "**variable: 'ICCC3WHO'**"
   ]
  },
  {
   "cell_type": "code",
   "execution_count": 27,
   "metadata": {},
   "outputs": [
    {
     "data": {
      "text/plain": [
       "116    787944\n",
       "999     47852\n",
       "Name: ICCC3WHO, dtype: int64"
      ]
     },
     "execution_count": 27,
     "metadata": {},
     "output_type": "execute_result"
    }
   ],
   "source": [
    "data['ICCC3WHO'].value_counts()"
   ]
  },
  {
   "cell_type": "markdown",
   "metadata": {},
   "source": [
    "**variable: 'ICCC3XWHO'**"
   ]
  },
  {
   "cell_type": "code",
   "execution_count": 28,
   "metadata": {},
   "outputs": [
    {
     "data": {
      "text/plain": [
       "98     778129\n",
       "999     47852\n",
       "99       9815\n",
       "Name: ICCC3XWHO, dtype: int64"
      ]
     },
     "execution_count": 28,
     "metadata": {},
     "output_type": "execute_result"
    }
   ],
   "source": [
    "data['ICCC3XWHO'].value_counts()"
   ]
  },
  {
   "cell_type": "code",
   "execution_count": 29,
   "metadata": {},
   "outputs": [
    {
     "data": {
      "text/plain": [
       "Index(['REG', 'SEX', 'AGE_DX', 'YR_BIRTH', 'SEQ_NUM', 'MDXRECMP', 'YEAR_DX',\n",
       "       'PRIMSITE', 'HISTO3V', 'BEHO3V', 'GRADE', 'DX_CONF', 'REPT_SRC',\n",
       "       'RECNOREC', 'AGE_IREC', 'SITERWHO', 'ICCC3WHO', 'ICCC3XWHO', 'BEHTREND',\n",
       "       'HISTREC', 'RAC_RECA', 'RAC_RECY', 'FIRSTPRM', 'IHSLINK', 'AYASITERWHO',\n",
       "       'INTPRIM', 'SCSSM2KO'],\n",
       "      dtype='object')"
      ]
     },
     "execution_count": 29,
     "metadata": {},
     "output_type": "execute_result"
    }
   ],
   "source": [
    "data.columns"
   ]
  },
  {
   "cell_type": "markdown",
   "metadata": {},
   "source": [
    "**variable: 'YR_BIRTH'**"
   ]
  },
  {
   "cell_type": "code",
   "execution_count": 30,
   "metadata": {},
   "outputs": [],
   "source": [
    "data['YR_BIRTH'] = data['YR_BIRTH'].apply(pd.to_numeric) "
   ]
  },
  {
   "cell_type": "code",
   "execution_count": 39,
   "metadata": {},
   "outputs": [
    {
     "data": {
      "text/plain": [
       "1930    20895\n",
       "1927    20437\n",
       "1928    20359\n",
       "1929    20296\n",
       "1931    20097\n",
       "1932    19989\n",
       "1934    19781\n",
       "1926    19626\n",
       "1935    19393\n",
       "1937    19368\n",
       "1947    19329\n",
       "1933    19279\n",
       "1942    19173\n",
       "1936    19153\n",
       "1938    19013\n",
       "1925    18890\n",
       "1924    18727\n",
       "1943    18712\n",
       "1946    18548\n",
       "1940    18430\n",
       "1939    18412\n",
       "1941    18146\n",
       "1948    17943\n",
       "1923    17287\n",
       "1944    17061\n",
       "1949    16884\n",
       "1945    16503\n",
       "1922    16385\n",
       "1950    16001\n",
       "1951    15738\n",
       "1921    15314\n",
       "1952    15083\n",
       "1953    14270\n",
       "1920    13745\n",
       "1954    13647\n",
       "1955    13229\n",
       "1956    12613\n",
       "1957    12059\n",
       "1958    11449\n",
       "1919    11252\n",
       "1959    10417\n",
       "1918    10073\n",
       "1960     9757\n",
       "1961     9182\n",
       "1917     8708\n",
       "1962     8449\n",
       "1963     7657\n",
       "1916     7465\n",
       "1964     6911\n",
       "1965     5928\n",
       "1966     4778\n",
       "1967     3947\n",
       "1968     3435\n",
       "1969     3046\n",
       "1970     2625\n",
       "1971     2202\n",
       "1972     1766\n",
       "1973     1484\n",
       "1974     1198\n",
       "1975     1011\n",
       "Name: YR_BIRTH, dtype: int64"
      ]
     },
     "execution_count": 39,
     "metadata": {},
     "output_type": "execute_result"
    }
   ],
   "source": [
    "data['YR_BIRTH'].value_counts()"
   ]
  },
  {
   "cell_type": "code",
   "execution_count": 38,
   "metadata": {},
   "outputs": [],
   "source": [
    "data = data.drop(data[data['YR_BIRTH'] <= 1915].index)\n",
    "data = data.drop(data[data['YR_BIRTH'] >= 1976].index)"
   ]
  },
  {
   "cell_type": "markdown",
   "metadata": {},
   "source": [
    "**variable: 'MDXRECMP'**"
   ]
  },
  {
   "cell_type": "code",
   "execution_count": 40,
   "metadata": {},
   "outputs": [
    {
     "data": {
      "text/plain": [
       "1    747176\n",
       "8     30763\n",
       "3     10407\n",
       "4      9348\n",
       "2      4170\n",
       "6       454\n",
       "7       122\n",
       "5       115\n",
       "Name: REPT_SRC, dtype: int64"
      ]
     },
     "execution_count": 40,
     "metadata": {},
     "output_type": "execute_result"
    }
   ],
   "source": [
    "data['REPT_SRC'].value_counts()"
   ]
  },
  {
   "cell_type": "code",
   "execution_count": 41,
   "metadata": {},
   "outputs": [],
   "source": [
    "data = data.drop(data[data['REPT_SRC'] >= 5].index)"
   ]
  },
  {
   "cell_type": "markdown",
   "metadata": {},
   "source": [
    "**variable: 'RAC_RECA'**"
   ]
  },
  {
   "cell_type": "code",
   "execution_count": 42,
   "metadata": {},
   "outputs": [
    {
     "data": {
      "text/plain": [
       "White      622059\n",
       "Black       89281\n",
       "Other       54252\n",
       "Unknown      5509\n",
       "Name: RAC_RECA, dtype: int64"
      ]
     },
     "execution_count": 42,
     "metadata": {},
     "output_type": "execute_result"
    }
   ],
   "source": [
    "data['RAC_RECA'].value_counts()"
   ]
  },
  {
   "cell_type": "code",
   "execution_count": 43,
   "metadata": {},
   "outputs": [],
   "source": [
    "data = data.drop(data[data['RAC_RECA'] == 'Unknown'].index)"
   ]
  },
  {
   "cell_type": "markdown",
   "metadata": {},
   "source": [
    "**variable: 'SITERWHO'**"
   ]
  },
  {
   "cell_type": "code",
   "execution_count": 44,
   "metadata": {},
   "outputs": [
    {
     "data": {
      "text/plain": [
       "21048    164089\n",
       "21052    163452\n",
       "21041    124074\n",
       "21043    107702\n",
       "21051     62578\n",
       "21045     52368\n",
       "21047     35534\n",
       "21044     27724\n",
       "21046     18662\n",
       "21042      9409\n",
       "Name: SITERWHO, dtype: int64"
      ]
     },
     "execution_count": 44,
     "metadata": {},
     "output_type": "execute_result"
    }
   ],
   "source": [
    "data['SITERWHO'].value_counts()"
   ]
  },
  {
   "cell_type": "code",
   "execution_count": 45,
   "metadata": {},
   "outputs": [],
   "source": [
    "data = data.drop(data[data['SITERWHO'] == 21042].index)"
   ]
  },
  {
   "cell_type": "markdown",
   "metadata": {},
   "source": [
    "**variable: 'IHSLINK'**"
   ]
  },
  {
   "cell_type": "code",
   "execution_count": 48,
   "metadata": {},
   "outputs": [
    {
     "data": {
      "text/plain": [
       "0    744508\n",
       "2      9598\n",
       "1      2077\n",
       "Name: IHSLINK, dtype: int64"
      ]
     },
     "execution_count": 48,
     "metadata": {},
     "output_type": "execute_result"
    }
   ],
   "source": [
    "data['IHSLINK'].value_counts()"
   ]
  },
  {
   "cell_type": "code",
   "execution_count": 47,
   "metadata": {},
   "outputs": [],
   "source": [
    "data['IHSLINK'] = data['IHSLINK'].replace(['No IHS match','0'], 0)\n",
    "data['IHSLINK'] = data['IHSLINK'].replace(['IHS Match','1'], 1)\n",
    "data['IHSLINK'] = data['IHSLINK'].replace([' '], 2)"
   ]
  },
  {
   "cell_type": "code",
   "execution_count": 49,
   "metadata": {},
   "outputs": [],
   "source": [
    "data = data.drop(data[data['IHSLINK'] == 2].index)"
   ]
  },
  {
   "cell_type": "markdown",
   "metadata": {},
   "source": [
    "**variable: 'GRADE'**"
   ]
  },
  {
   "cell_type": "code",
   "execution_count": 50,
   "metadata": {},
   "outputs": [
    {
     "data": {
      "text/plain": [
       "Grade II        443296\n",
       "Undetermined    119849\n",
       "Grade III       105456\n",
       "Grade I          67533\n",
       "Grade IV         10451\n",
       "Name: GRADE, dtype: int64"
      ]
     },
     "execution_count": 50,
     "metadata": {},
     "output_type": "execute_result"
    }
   ],
   "source": [
    "data['GRADE'].value_counts()"
   ]
  },
  {
   "cell_type": "code",
   "execution_count": 51,
   "metadata": {},
   "outputs": [],
   "source": [
    "data = data.drop(data[data['GRADE'] == 'Undetermined'].index)"
   ]
  },
  {
   "cell_type": "markdown",
   "metadata": {},
   "source": [
    "**variable: 'AYASITERWHO'**"
   ]
  },
  {
   "cell_type": "code",
   "execution_count": 52,
   "metadata": {},
   "outputs": [],
   "source": [
    "data = data.drop(['AYASITERWHO'], axis=1)"
   ]
  },
  {
   "cell_type": "markdown",
   "metadata": {},
   "source": [
    "**variable: 'INTPRIM'**"
   ]
  },
  {
   "cell_type": "code",
   "execution_count": 53,
   "metadata": {},
   "outputs": [
    {
     "data": {
      "text/plain": [
       "Yes         601995\n",
       "No           18355\n",
       "Excluded      6386\n",
       "Name: INTPRIM, dtype: int64"
      ]
     },
     "execution_count": 53,
     "metadata": {},
     "output_type": "execute_result"
    }
   ],
   "source": [
    "data['INTPRIM'].value_counts()"
   ]
  },
  {
   "cell_type": "code",
   "execution_count": 54,
   "metadata": {},
   "outputs": [],
   "source": [
    "data = data.drop(data[data['INTPRIM'] == 'Excluded'].index)"
   ]
  },
  {
   "cell_type": "markdown",
   "metadata": {},
   "source": [
    "**variable: 'SCSSM2KO'**"
   ]
  },
  {
   "cell_type": "code",
   "execution_count": 55,
   "metadata": {},
   "outputs": [
    {
     "data": {
      "text/plain": [
       "1    189275\n",
       "     151396\n",
       "7     78966\n",
       "3     64646\n",
       "4     62267\n",
       "2     62052\n",
       "9     11713\n",
       "5        35\n",
       "Name: SCSSM2KO, dtype: int64"
      ]
     },
     "execution_count": 55,
     "metadata": {},
     "output_type": "execute_result"
    }
   ],
   "source": [
    "data['SCSSM2KO'].value_counts()"
   ]
  },
  {
   "cell_type": "code",
   "execution_count": 56,
   "metadata": {},
   "outputs": [],
   "source": [
    "data = data.drop(['SCSSM2KO'], axis=1)"
   ]
  },
  {
   "cell_type": "code",
   "execution_count": 57,
   "metadata": {},
   "outputs": [],
   "source": [
    "data.to_csv('neat_sampled.csv')"
   ]
  }
 ],
 "metadata": {
  "kernelspec": {
   "display_name": "Python 3",
   "language": "python",
   "name": "python3"
  },
  "language_info": {
   "codemirror_mode": {
    "name": "ipython",
    "version": 3
   },
   "file_extension": ".py",
   "mimetype": "text/x-python",
   "name": "python",
   "nbconvert_exporter": "python",
   "pygments_lexer": "ipython3",
   "version": "3.7.4"
  }
 },
 "nbformat": 4,
 "nbformat_minor": 2
}

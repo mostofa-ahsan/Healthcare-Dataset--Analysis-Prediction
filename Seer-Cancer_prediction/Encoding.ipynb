{
 "cells": [
  {
   "cell_type": "markdown",
   "metadata": {},
   "source": [
    "import libraries"
   ]
  },
  {
   "cell_type": "code",
   "execution_count": 22,
   "metadata": {},
   "outputs": [],
   "source": [
    "import pandas as pd\n",
    "import numpy as np\n",
    "import os\n",
    "from sklearn.preprocessing import LabelEncoder"
   ]
  },
  {
   "cell_type": "markdown",
   "metadata": {},
   "source": [
    "set working directory"
   ]
  },
  {
   "cell_type": "code",
   "execution_count": 4,
   "metadata": {},
   "outputs": [],
   "source": [
    "os.chdir('D:\\ISU\\MIS 536\\SEER Project\\CSV data')"
   ]
  },
  {
   "cell_type": "markdown",
   "metadata": {},
   "source": [
    "load data"
   ]
  },
  {
   "cell_type": "code",
   "execution_count": 6,
   "metadata": {},
   "outputs": [],
   "source": [
    "data=pd.read_csv('neat_sampled.csv')"
   ]
  },
  {
   "cell_type": "markdown",
   "metadata": {},
   "source": [
    "data features"
   ]
  },
  {
   "cell_type": "code",
   "execution_count": 7,
   "metadata": {},
   "outputs": [
    {
     "data": {
      "text/plain": [
       "Index(['Unnamed: 0', 'REG', 'SEX', 'AGE_DX', 'YR_BIRTH', 'SEQ_NUM', 'MDXRECMP',\n",
       "       'YEAR_DX', 'PRIMSITE', 'HISTO3V', 'BEHO3V', 'GRADE', 'DX_CONF',\n",
       "       'REPT_SRC', 'RECNOREC', 'AGE_IREC', 'SITERWHO', 'ICCC3WHO', 'ICCC3XWHO',\n",
       "       'BEHTREND', 'HISTREC', 'RAC_RECA', 'RAC_RECY', 'FIRSTPRM', 'IHSLINK',\n",
       "       'INTPRIM'],\n",
       "      dtype='object')"
      ]
     },
     "execution_count": 7,
     "metadata": {},
     "output_type": "execute_result"
    }
   ],
   "source": [
    "data.columns"
   ]
  },
  {
   "cell_type": "code",
   "execution_count": 8,
   "metadata": {},
   "outputs": [],
   "source": [
    "data = data.drop(['Unnamed: 0'],axis=1)"
   ]
  },
  {
   "cell_type": "markdown",
   "metadata": {},
   "source": [
    "data description"
   ]
  },
  {
   "cell_type": "code",
   "execution_count": 13,
   "metadata": {},
   "outputs": [
    {
     "name": "stdout",
     "output_type": "stream",
     "text": [
      "<class 'pandas.core.frame.DataFrame'>\n",
      "RangeIndex: 620350 entries, 0 to 620349\n",
      "Data columns (total 25 columns):\n",
      "REG          620350 non-null object\n",
      "SEX          620350 non-null object\n",
      "AGE_DX       620350 non-null int64\n",
      "YR_BIRTH     620350 non-null int64\n",
      "SEQ_NUM      620350 non-null int64\n",
      "MDXRECMP     620350 non-null int64\n",
      "YEAR_DX      620350 non-null int64\n",
      "PRIMSITE     620350 non-null object\n",
      "HISTO3V      620350 non-null int64\n",
      "BEHO3V       620350 non-null object\n",
      "GRADE        620350 non-null object\n",
      "DX_CONF      620350 non-null int64\n",
      "REPT_SRC     620350 non-null int64\n",
      "RECNOREC     620350 non-null int64\n",
      "AGE_IREC     620350 non-null int64\n",
      "SITERWHO     620350 non-null int64\n",
      "ICCC3WHO     620350 non-null int64\n",
      "ICCC3XWHO    620350 non-null int64\n",
      "BEHTREND     620350 non-null int64\n",
      "HISTREC      620350 non-null int64\n",
      "RAC_RECA     620350 non-null object\n",
      "RAC_RECY     620350 non-null object\n",
      "FIRSTPRM     620350 non-null object\n",
      "IHSLINK      620350 non-null int64\n",
      "INTPRIM      620350 non-null object\n",
      "dtypes: int64(16), object(9)\n",
      "memory usage: 118.3+ MB\n"
     ]
    }
   ],
   "source": [
    "data.info()"
   ]
  },
  {
   "cell_type": "markdown",
   "metadata": {},
   "source": [
    "GRADE"
   ]
  },
  {
   "cell_type": "code",
   "execution_count": 14,
   "metadata": {},
   "outputs": [],
   "source": [
    "data['GRADE']=data['GRADE'].replace({'Grade II': 1, 'Grade III': 2,'Grade I':0,'Grade IV':3 })"
   ]
  },
  {
   "cell_type": "markdown",
   "metadata": {},
   "source": [
    "FIRSTPRM"
   ]
  },
  {
   "cell_type": "code",
   "execution_count": 15,
   "metadata": {},
   "outputs": [],
   "source": [
    "data['FIRSTPRM']=data['FIRSTPRM'].replace({'Yes': 0, 'No': 1})"
   ]
  },
  {
   "cell_type": "markdown",
   "metadata": {},
   "source": [
    "one hot encoding"
   ]
  },
  {
   "cell_type": "code",
   "execution_count": 16,
   "metadata": {},
   "outputs": [],
   "source": [
    "ordinal_vars = data.drop(['AGE_DX','YR_BIRTH','SEQ_NUM',\n",
    "                   'MDXRECMP','YEAR_DX','GRADE','AGE_IREC','FIRSTPRM'],axis=1)"
   ]
  },
  {
   "cell_type": "code",
   "execution_count": 17,
   "metadata": {},
   "outputs": [],
   "source": [
    "oh_encoded = pd.get_dummies(ordinal_vars)"
   ]
  },
  {
   "cell_type": "code",
   "execution_count": 19,
   "metadata": {},
   "outputs": [],
   "source": [
    "cat_vars = data.drop(['REG','SEX','PRIMSITE','HISTO3V','BEHO3V','DX_CONF','REPT_SRC',\n",
    "      'RECNOREC','SITERWHO','ICCC3WHO','ICCC3XWHO','BEHTREND','HISTREC','RAC_RECA',\n",
    "      'INTPRIM','IHSLINK'],axis=1)"
   ]
  },
  {
   "cell_type": "code",
   "execution_count": 20,
   "metadata": {},
   "outputs": [],
   "source": [
    "total_encoded = pd.concat([oh_encoded,cat_vars], axis=1)"
   ]
  },
  {
   "cell_type": "markdown",
   "metadata": {},
   "source": [
    "label encoding"
   ]
  },
  {
   "cell_type": "code",
   "execution_count": 23,
   "metadata": {},
   "outputs": [],
   "source": [
    "label = LabelEncoder() \n",
    "for c in total_encoded.columns:\n",
    "    if(total_encoded[c].dtype=='object'):\n",
    "        total_encoded[c]=label.fit_transform(total_encoded[c])\n",
    "    else:\n",
    "        total_encoded[c]=total_encoded[c]\n"
   ]
  },
  {
   "cell_type": "markdown",
   "metadata": {},
   "source": [
    "verify"
   ]
  },
  {
   "cell_type": "code",
   "execution_count": 24,
   "metadata": {},
   "outputs": [
    {
     "name": "stdout",
     "output_type": "stream",
     "text": [
      "<class 'pandas.core.frame.DataFrame'>\n",
      "RangeIndex: 620350 entries, 0 to 620349\n",
      "Data columns (total 59 columns):\n",
      "HISTO3V                                   620350 non-null int64\n",
      "DX_CONF                                   620350 non-null int64\n",
      "REPT_SRC                                  620350 non-null int64\n",
      "RECNOREC                                  620350 non-null int64\n",
      "SITERWHO                                  620350 non-null int64\n",
      "ICCC3WHO                                  620350 non-null int64\n",
      "ICCC3XWHO                                 620350 non-null int64\n",
      "BEHTREND                                  620350 non-null int64\n",
      "HISTREC                                   620350 non-null int64\n",
      "IHSLINK                                   620350 non-null int64\n",
      "REG_Connecticut                           620350 non-null uint8\n",
      "REG_Greater California                    620350 non-null uint8\n",
      "REG_Greater Georgia                       620350 non-null uint8\n",
      "REG_Hawaii                                620350 non-null uint8\n",
      "REG_Idaho                                 620350 non-null uint8\n",
      "REG_Iowa                                  620350 non-null uint8\n",
      "REG_Kentucky                              620350 non-null uint8\n",
      "REG_Los Angeles                           620350 non-null uint8\n",
      "REG_Louisiana                             620350 non-null uint8\n",
      "REG_Massachusetts                         620350 non-null uint8\n",
      "REG_Metropolitan Atlanta                  620350 non-null uint8\n",
      "REG_Metropolitan Detroit                  620350 non-null uint8\n",
      "REG_New Jersey                            620350 non-null uint8\n",
      "REG_New Mexico                            620350 non-null uint8\n",
      "REG_New York                              620350 non-null uint8\n",
      "REG_San Francisco-Oakland SMSA            620350 non-null uint8\n",
      "REG_San Jose-Monterey                     620350 non-null uint8\n",
      "REG_Seattle (Puget Sound)                 620350 non-null uint8\n",
      "REG_Utah                                  620350 non-null uint8\n",
      "SEX_Female                                620350 non-null uint8\n",
      "SEX_Male                                  620350 non-null uint8\n",
      "PRIMSITE_C180                             620350 non-null uint8\n",
      "PRIMSITE_C182                             620350 non-null uint8\n",
      "PRIMSITE_C183                             620350 non-null uint8\n",
      "PRIMSITE_C184                             620350 non-null uint8\n",
      "PRIMSITE_C185                             620350 non-null uint8\n",
      "PRIMSITE_C186                             620350 non-null uint8\n",
      "PRIMSITE_C187                             620350 non-null uint8\n",
      "PRIMSITE_C199                             620350 non-null uint8\n",
      "PRIMSITE_C209                             620350 non-null uint8\n",
      "BEHO3V_Malignant - Invasive               620350 non-null uint8\n",
      "RAC_RECA_Black                            620350 non-null uint8\n",
      "RAC_RECA_Other                            620350 non-null uint8\n",
      "RAC_RECA_White                            620350 non-null uint8\n",
      "RAC_RECY_American Indian/Alaska Native    620350 non-null uint8\n",
      "RAC_RECY_Asian or Pacific Islander        620350 non-null uint8\n",
      "RAC_RECY_Black                            620350 non-null uint8\n",
      "RAC_RECY_White                            620350 non-null uint8\n",
      "INTPRIM_No                                620350 non-null uint8\n",
      "INTPRIM_Yes                               620350 non-null uint8\n",
      "AGE_DX                                    620350 non-null int64\n",
      "YR_BIRTH                                  620350 non-null int64\n",
      "SEQ_NUM                                   620350 non-null int64\n",
      "MDXRECMP                                  620350 non-null int64\n",
      "YEAR_DX                                   620350 non-null int64\n",
      "GRADE                                     620350 non-null int64\n",
      "AGE_IREC                                  620350 non-null int64\n",
      "RAC_RECY                                  620350 non-null int32\n",
      "FIRSTPRM                                  620350 non-null int64\n",
      "dtypes: int32(1), int64(18), uint8(40)\n",
      "memory usage: 111.2 MB\n"
     ]
    }
   ],
   "source": [
    "total_encoded.info()"
   ]
  },
  {
   "cell_type": "markdown",
   "metadata": {},
   "source": [
    "export"
   ]
  },
  {
   "cell_type": "code",
   "execution_count": 25,
   "metadata": {},
   "outputs": [],
   "source": [
    "total_encoded.to_csv('encoded_lite.csv')"
   ]
  }
 ],
 "metadata": {
  "kernelspec": {
   "display_name": "Python 3",
   "language": "python",
   "name": "python3"
  },
  "language_info": {
   "codemirror_mode": {
    "name": "ipython",
    "version": 3
   },
   "file_extension": ".py",
   "mimetype": "text/x-python",
   "name": "python",
   "nbconvert_exporter": "python",
   "pygments_lexer": "ipython3",
   "version": "3.7.4"
  }
 },
 "nbformat": 4,
 "nbformat_minor": 2
}
